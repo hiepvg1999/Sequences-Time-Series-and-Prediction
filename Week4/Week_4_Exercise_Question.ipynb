{
  "nbformat": 4,
  "nbformat_minor": 0,
  "metadata": {
    "colab": {
      "name": "Week 4 Exercise Question.ipynb",
      "provenance": [],
      "collapsed_sections": []
    },
    "kernelspec": {
      "name": "python3",
      "display_name": "Python 3"
    },
    "accelerator": "GPU"
  },
  "cells": [
    {
      "cell_type": "code",
      "metadata": {
        "id": "GNkzTFfynsmV",
        "colab_type": "code",
        "colab": {
          "base_uri": "https://localhost:8080/",
          "height": 598
        },
        "outputId": "ed4108a3-c3b2-4b73-a5f9-8fa3c1dbd0a7"
      },
      "source": [
        "!pip install tensorflow==2.0.0b1"
      ],
      "execution_count": 1,
      "outputs": [
        {
          "output_type": "stream",
          "text": [
            "Collecting tensorflow==2.0.0b1\n",
            "\u001b[?25l  Downloading https://files.pythonhosted.org/packages/29/6c/2c9a5c4d095c63c2fb37d20def0e4f92685f7aee9243d6aae25862694fd1/tensorflow-2.0.0b1-cp36-cp36m-manylinux1_x86_64.whl (87.9MB)\n",
            "\u001b[K     |████████████████████████████████| 87.9MB 50kB/s \n",
            "\u001b[?25hRequirement already satisfied: absl-py>=0.7.0 in /usr/local/lib/python3.6/dist-packages (from tensorflow==2.0.0b1) (0.9.0)\n",
            "Requirement already satisfied: termcolor>=1.1.0 in /usr/local/lib/python3.6/dist-packages (from tensorflow==2.0.0b1) (1.1.0)\n",
            "Requirement already satisfied: grpcio>=1.8.6 in /usr/local/lib/python3.6/dist-packages (from tensorflow==2.0.0b1) (1.24.3)\n",
            "Requirement already satisfied: gast>=0.2.0 in /usr/local/lib/python3.6/dist-packages (from tensorflow==2.0.0b1) (0.2.2)\n",
            "Requirement already satisfied: wheel>=0.26 in /usr/local/lib/python3.6/dist-packages (from tensorflow==2.0.0b1) (0.34.2)\n",
            "Requirement already satisfied: keras-preprocessing>=1.0.5 in /usr/local/lib/python3.6/dist-packages (from tensorflow==2.0.0b1) (1.1.0)\n",
            "Requirement already satisfied: astor>=0.6.0 in /usr/local/lib/python3.6/dist-packages (from tensorflow==2.0.0b1) (0.8.1)\n",
            "Requirement already satisfied: numpy<2.0,>=1.14.5 in /usr/local/lib/python3.6/dist-packages (from tensorflow==2.0.0b1) (1.18.1)\n",
            "Collecting tb-nightly<1.14.0a20190604,>=1.14.0a20190603\n",
            "\u001b[?25l  Downloading https://files.pythonhosted.org/packages/a4/96/571b875cd81dda9d5dfa1422a4f9d749e67c0a8d4f4f0b33a4e5f5f35e27/tb_nightly-1.14.0a20190603-py3-none-any.whl (3.1MB)\n",
            "\u001b[K     |████████████████████████████████| 3.1MB 49.2MB/s \n",
            "\u001b[?25hCollecting tf-estimator-nightly<1.14.0.dev2019060502,>=1.14.0.dev2019060501\n",
            "\u001b[?25l  Downloading https://files.pythonhosted.org/packages/32/dd/99c47dd007dcf10d63fd895611b063732646f23059c618a373e85019eb0e/tf_estimator_nightly-1.14.0.dev2019060501-py2.py3-none-any.whl (496kB)\n",
            "\u001b[K     |████████████████████████████████| 501kB 55.3MB/s \n",
            "\u001b[?25hRequirement already satisfied: wrapt>=1.11.1 in /usr/local/lib/python3.6/dist-packages (from tensorflow==2.0.0b1) (1.12.1)\n",
            "Requirement already satisfied: six>=1.10.0 in /usr/local/lib/python3.6/dist-packages (from tensorflow==2.0.0b1) (1.12.0)\n",
            "Requirement already satisfied: google-pasta>=0.1.6 in /usr/local/lib/python3.6/dist-packages (from tensorflow==2.0.0b1) (0.1.8)\n",
            "Requirement already satisfied: keras-applications>=1.0.6 in /usr/local/lib/python3.6/dist-packages (from tensorflow==2.0.0b1) (1.0.8)\n",
            "Requirement already satisfied: protobuf>=3.6.1 in /usr/local/lib/python3.6/dist-packages (from tensorflow==2.0.0b1) (3.10.0)\n",
            "Requirement already satisfied: markdown>=2.6.8 in /usr/local/lib/python3.6/dist-packages (from tb-nightly<1.14.0a20190604,>=1.14.0a20190603->tensorflow==2.0.0b1) (3.2.1)\n",
            "Requirement already satisfied: setuptools>=41.0.0 in /usr/local/lib/python3.6/dist-packages (from tb-nightly<1.14.0a20190604,>=1.14.0a20190603->tensorflow==2.0.0b1) (45.2.0)\n",
            "Requirement already satisfied: werkzeug>=0.11.15 in /usr/local/lib/python3.6/dist-packages (from tb-nightly<1.14.0a20190604,>=1.14.0a20190603->tensorflow==2.0.0b1) (1.0.0)\n",
            "Requirement already satisfied: h5py in /usr/local/lib/python3.6/dist-packages (from keras-applications>=1.0.6->tensorflow==2.0.0b1) (2.8.0)\n",
            "\u001b[31mERROR: tensorflow-federated 0.12.0 has requirement tensorflow~=2.1.0, but you'll have tensorflow 2.0.0b1 which is incompatible.\u001b[0m\n",
            "\u001b[31mERROR: tensorflow-federated 0.12.0 has requirement tensorflow-addons~=0.7.0, but you'll have tensorflow-addons 0.8.3 which is incompatible.\u001b[0m\n",
            "Installing collected packages: tb-nightly, tf-estimator-nightly, tensorflow\n",
            "  Found existing installation: tensorflow 1.15.0\n",
            "    Uninstalling tensorflow-1.15.0:\n",
            "      Successfully uninstalled tensorflow-1.15.0\n",
            "Successfully installed tb-nightly-1.14.0a20190603 tensorflow-2.1.0 tf-estimator-nightly-1.14.0.dev2019060501\n"
          ],
          "name": "stdout"
        }
      ]
    },
    {
      "cell_type": "code",
      "metadata": {
        "id": "56XEQOGknrAk",
        "colab_type": "code",
        "colab": {
          "base_uri": "https://localhost:8080/",
          "height": 34
        },
        "outputId": "f444d05f-2752-4d22-ffb6-7fd02cac0338"
      },
      "source": [
        "import tensorflow as tf\n",
        "print(tf.__version__)"
      ],
      "execution_count": 3,
      "outputs": [
        {
          "output_type": "stream",
          "text": [
            "2.0.0-beta1\n"
          ],
          "name": "stdout"
        }
      ]
    },
    {
      "cell_type": "code",
      "metadata": {
        "id": "sLl52leVp5wU",
        "colab_type": "code",
        "colab": {}
      },
      "source": [
        "import numpy as np\n",
        "import matplotlib.pyplot as plt\n",
        "def plot_series(time, series, format=\"-\", start=0, end=None):\n",
        "    plt.plot(time[start:end], series[start:end], format)\n",
        "    plt.xlabel(\"Time\")\n",
        "    plt.ylabel(\"Value\")\n",
        "    plt.grid(True)"
      ],
      "execution_count": 0,
      "outputs": []
    },
    {
      "cell_type": "code",
      "metadata": {
        "id": "tP7oqUdkk0gY",
        "colab_type": "code",
        "colab": {
          "base_uri": "https://localhost:8080/",
          "height": 204
        },
        "outputId": "8de98dfa-e53a-4196-995a-559169d44ee6"
      },
      "source": [
        "!wget --no-check-certificate \\\n",
        "    https://raw.githubusercontent.com/jbrownlee/Datasets/master/daily-min-temperatures.csv \\\n",
        "    -O /tmp/daily-min-temperatures.csv"
      ],
      "execution_count": 5,
      "outputs": [
        {
          "output_type": "stream",
          "text": [
            "--2020-03-19 09:07:23--  https://raw.githubusercontent.com/jbrownlee/Datasets/master/daily-min-temperatures.csv\n",
            "Resolving raw.githubusercontent.com (raw.githubusercontent.com)... 151.101.0.133, 151.101.64.133, 151.101.128.133, ...\n",
            "Connecting to raw.githubusercontent.com (raw.githubusercontent.com)|151.101.0.133|:443... connected.\n",
            "HTTP request sent, awaiting response... 200 OK\n",
            "Length: 67921 (66K) [text/plain]\n",
            "Saving to: ‘/tmp/daily-min-temperatures.csv’\n",
            "\n",
            "\r          /tmp/dail   0%[                    ]       0  --.-KB/s               \r/tmp/daily-min-temp 100%[===================>]  66.33K  --.-KB/s    in 0.008s  \n",
            "\n",
            "2020-03-19 09:07:24 (8.12 MB/s) - ‘/tmp/daily-min-temperatures.csv’ saved [67921/67921]\n",
            "\n"
          ],
          "name": "stdout"
        }
      ]
    },
    {
      "cell_type": "code",
      "metadata": {
        "id": "NcG9r1eClbTh",
        "colab_type": "code",
        "colab": {
          "base_uri": "https://localhost:8080/",
          "height": 388
        },
        "outputId": "8e33c7dd-8c93-4634-f186-23d5f7569609"
      },
      "source": [
        "import csv\n",
        "time_step = []\n",
        "temps = []\n",
        "\n",
        "with open('/tmp/daily-min-temperatures.csv') as csvfile:\n",
        "# YOUR CODE HERE. READ TEMPERATURES INTO TEMPS\n",
        "  reader = csv.reader(csvfile,delimiter =',')\n",
        "  next(reader)\n",
        "  step =0\n",
        "  for row in reader:\n",
        "    temps.append(float(row[1]))\n",
        "    time_step.append(step)\n",
        "    step = step+1\n",
        "\n",
        "# HAVE TIME STEPS BE A SIMPLE ARRAY OF 1, 2, 3, 4 etc\n",
        "\n",
        "series = np.array(temps)\n",
        "time = np.array(time_step)\n",
        "plt.figure(figsize=(10, 6))\n",
        "plot_series(time, series)"
      ],
      "execution_count": 8,
      "outputs": [
        {
          "output_type": "display_data",
          "data": {
            "image/png": "[encoded data removed]",
            "text/plain": [
              "<Figure size 720x432 with 1 Axes>"
            ]
          },
          "metadata": {
            "tags": []
          }
        }
      ]
    },
    {
      "cell_type": "code",
      "metadata": {
        "id": "L92YRw_IpCFG",
        "colab_type": "code",
        "colab": {}
      },
      "source": [
        "split_time = 2500\n",
        "time_train = time[:split_time]\n",
        "x_train = series[:split_time]\n",
        "time_valid = time[split_time:]\n",
        "x_valid = series[split_time:]\n",
        "\n",
        "window_size = 30\n",
        "batch_size = 32\n",
        "shuffle_buffer_size = 1000\n",
        "\n"
      ],
      "execution_count": 0,
      "outputs": []
    },
    {
      "cell_type": "code",
      "metadata": {
        "id": "joa0m6IAH7-G",
        "colab_type": "code",
        "colab": {
          "base_uri": "https://localhost:8080/",
          "height": 34
        },
        "outputId": "4c13f172-d4d2-421a-e623-957c4b4206ae"
      },
      "source": [
        "print(x_train.shape)"
      ],
      "execution_count": 18,
      "outputs": [
        {
          "output_type": "stream",
          "text": [
            "(2500,)\n"
          ],
          "name": "stdout"
        }
      ]
    },
    {
      "cell_type": "code",
      "metadata": {
        "id": "lJwUUZscnG38",
        "colab_type": "code",
        "colab": {}
      },
      "source": [
        "def windowed_dataset(series, window_size, batch_size, shuffle_buffer):\n",
        "    series = tf.expand_dims(series,axis=-1)\n",
        "    ds = tf.data.Dataset.from_tensor_slices(series)\n",
        "    ds = ds.window(window_size+1,shift =1 , drop_remainder =True)\n",
        "    ds = ds.flat_map(lambda w:(w.batch(window_size+1)))\n",
        "    ds = ds.shuffle(shuffle_buffer)\n",
        "    ds = ds.map(lambda w: (w[:-1],w[1:]))\n",
        "    return ds.batch(batch_size).prefetch(1)"
      ],
      "execution_count": 0,
      "outputs": []
    },
    {
      "cell_type": "code",
      "metadata": {
        "id": "4XwGrf-A_wF0",
        "colab_type": "code",
        "colab": {}
      },
      "source": [
        "def model_forecast(model, series, window_size):\n",
        "    ds = tf.data.Dataset.from_tensor_slices(series)\n",
        "    ds = ds.window(window_size, shift=1, drop_remainder=True)\n",
        "    ds = ds.flat_map(lambda w: w.batch(window_size))\n",
        "    ds = ds.batch(32).prefetch(1)\n",
        "    forecast = model.predict(ds)\n",
        "    return forecast"
      ],
      "execution_count": 0,
      "outputs": []
    },
    {
      "cell_type": "code",
      "metadata": {
        "id": "wdtKcjAcHNgz",
        "colab_type": "code",
        "colab": {
          "base_uri": "https://localhost:8080/",
          "height": 51
        },
        "outputId": "b4742903-2e31-473d-ac2f-ce14ccc0dd83"
      },
      "source": [
        "tf.keras.backend.clear_session()\n",
        "tf.random.set_seed(51)\n",
        "np.random.seed(51)\n",
        "window_size = 64\n",
        "batch_size = 256\n",
        "train_set = windowed_dataset(x_train, window_size, batch_size, shuffle_buffer_size)\n",
        "print(train_set)\n",
        "print(x_train.shape)"
      ],
      "execution_count": 21,
      "outputs": [
        {
          "output_type": "stream",
          "text": [
            "<PrefetchDataset shapes: ((None, None, 1), (None, None, 1)), types: (tf.float64, tf.float64)>\n",
            "(2500,)\n"
          ],
          "name": "stdout"
        }
      ]
    },
    {
      "cell_type": "code",
      "metadata": {
        "id": "AclfYY3Mn6Ph",
        "colab_type": "code",
        "outputId": "0ecb71f7-6c4a-4b4c-fac6-30c23a849070",
        "colab": {
          "base_uri": "https://localhost:8080/",
          "height": 1000
        }
      },
      "source": [
        "\n",
        "\n",
        "model = tf.keras.models.Sequential([\n",
        "tf.keras.layers.Conv1D(filters=32, kernel_size=5,\n",
        "                      strides=1, padding=\"causal\",\n",
        "                      activation=\"relu\",\n",
        "                      input_shape=[None, 1]),\n",
        "  tf.keras.layers.LSTM(64, return_sequences=True),\n",
        "  tf.keras.layers.LSTM(64, return_sequences=True),\n",
        "  tf.keras.layers.Dense(30, activation=\"relu\"),\n",
        "  tf.keras.layers.Dense(10, activation=\"relu\"),\n",
        "  tf.keras.layers.Dense(1),\n",
        "  tf.keras.layers.Lambda(lambda x: x * 400)\n",
        "])\n",
        "\n",
        "lr_schedule = tf.keras.callbacks.LearningRateScheduler(\n",
        "    lambda epoch: 1e-8 * 10**(epoch / 20))\n",
        "optimizer = tf.keras.optimizers.SGD(lr=1e-8, momentum=0.9)\n",
        "model.compile(loss=tf.keras.losses.Huber(),\n",
        "              optimizer=optimizer,\n",
        "              metrics=[\"mae\"])\n",
        "history = model.fit(train_set, epochs=100, callbacks=[lr_schedule])\n",
        "\n",
        "\n"
      ],
      "execution_count": 22,
      "outputs": [
        {
          "output_type": "stream",
          "text": [
            "Epoch 1/100\n",
            "10/10 [==============================] - 6s 628ms/step - loss: 31.1549 - mae: 31.6551\n",
            "Epoch 2/100\n",
            "10/10 [==============================] - 4s 386ms/step - loss: 30.5696 - mae: 31.0771\n",
            "Epoch 3/100\n",
            "10/10 [==============================] - 4s 381ms/step - loss: 29.6691 - mae: 30.1811\n",
            "Epoch 4/100\n",
            "10/10 [==============================] - 4s 387ms/step - loss: 28.5431 - mae: 29.0596\n",
            "Epoch 5/100\n",
            "10/10 [==============================] - 4s 384ms/step - loss: 27.1744 - mae: 27.6976\n",
            "Epoch 6/100\n",
            "10/10 [==============================] - 4s 386ms/step - loss: 25.4676 - mae: 26.0015\n",
            "Epoch 7/100\n",
            "10/10 [==============================] - 4s 385ms/step - loss: 23.2987 - mae: 23.8487\n",
            "Epoch 8/100\n",
            "10/10 [==============================] - 4s 389ms/step - loss: 20.5506 - mae: 21.1192\n",
            "Epoch 9/100\n",
            "10/10 [==============================] - 4s 381ms/step - loss: 17.2408 - mae: 17.8223\n",
            "Epoch 10/100\n",
            "10/10 [==============================] - 4s 387ms/step - loss: 13.5549 - mae: 14.1350\n",
            "Epoch 11/100\n",
            "10/10 [==============================] - 4s 391ms/step - loss: 10.0753 - mae: 10.6367\n",
            "Epoch 12/100\n",
            "10/10 [==============================] - 4s 381ms/step - loss: 7.5638 - mae: 8.0985\n",
            "Epoch 13/100\n",
            "10/10 [==============================] - 4s 379ms/step - loss: 6.2445 - mae: 6.7619\n",
            "Epoch 14/100\n",
            "10/10 [==============================] - 4s 386ms/step - loss: 5.6749 - mae: 6.1854\n",
            "Epoch 15/100\n",
            "10/10 [==============================] - 4s 380ms/step - loss: 5.3090 - mae: 5.8168\n",
            "Epoch 16/100\n",
            "10/10 [==============================] - 4s 378ms/step - loss: 4.9122 - mae: 5.4169\n",
            "Epoch 17/100\n",
            "10/10 [==============================] - 4s 382ms/step - loss: 4.5318 - mae: 5.0305\n",
            "Epoch 18/100\n",
            "10/10 [==============================] - 4s 388ms/step - loss: 4.2115 - mae: 4.7068\n",
            "Epoch 19/100\n",
            "10/10 [==============================] - 4s 385ms/step - loss: 3.9429 - mae: 4.4360\n",
            "Epoch 20/100\n",
            "10/10 [==============================] - 4s 390ms/step - loss: 3.7309 - mae: 4.2194\n",
            "Epoch 21/100\n",
            "10/10 [==============================] - 4s 388ms/step - loss: 3.5706 - mae: 4.0551\n",
            "Epoch 22/100\n",
            "10/10 [==============================] - 4s 384ms/step - loss: 3.4527 - mae: 3.9344\n",
            "Epoch 23/100\n",
            "10/10 [==============================] - 4s 380ms/step - loss: 3.3617 - mae: 3.8423\n",
            "Epoch 24/100\n",
            "10/10 [==============================] - 4s 378ms/step - loss: 3.2876 - mae: 3.7666\n",
            "Epoch 25/100\n",
            "10/10 [==============================] - 4s 384ms/step - loss: 3.2224 - mae: 3.6997\n",
            "Epoch 26/100\n",
            "10/10 [==============================] - 4s 383ms/step - loss: 3.1596 - mae: 3.6359\n",
            "Epoch 27/100\n",
            "10/10 [==============================] - 4s 385ms/step - loss: 3.0964 - mae: 3.5717\n",
            "Epoch 28/100\n",
            "10/10 [==============================] - 4s 384ms/step - loss: 3.0322 - mae: 3.5064\n",
            "Epoch 29/100\n",
            "10/10 [==============================] - 4s 375ms/step - loss: 2.9662 - mae: 3.4392\n",
            "Epoch 30/100\n",
            "10/10 [==============================] - 4s 380ms/step - loss: 2.9004 - mae: 3.3720\n",
            "Epoch 31/100\n",
            "10/10 [==============================] - 4s 380ms/step - loss: 2.8376 - mae: 3.3081\n",
            "Epoch 32/100\n",
            "10/10 [==============================] - 4s 377ms/step - loss: 2.7775 - mae: 3.2475\n",
            "Epoch 33/100\n",
            "10/10 [==============================] - 4s 384ms/step - loss: 2.7202 - mae: 3.1899\n",
            "Epoch 34/100\n",
            "10/10 [==============================] - 4s 385ms/step - loss: 2.6662 - mae: 3.1360\n",
            "Epoch 35/100\n",
            "10/10 [==============================] - 4s 377ms/step - loss: 2.6152 - mae: 3.0848\n",
            "Epoch 36/100\n",
            "10/10 [==============================] - 4s 381ms/step - loss: 2.5663 - mae: 3.0353\n",
            "Epoch 37/100\n",
            "10/10 [==============================] - 4s 376ms/step - loss: 2.5192 - mae: 2.9872\n",
            "Epoch 38/100\n",
            "10/10 [==============================] - 4s 378ms/step - loss: 2.4735 - mae: 2.9408\n",
            "Epoch 39/100\n",
            "10/10 [==============================] - 4s 382ms/step - loss: 2.4296 - mae: 2.8964\n",
            "Epoch 40/100\n",
            "10/10 [==============================] - 4s 382ms/step - loss: 2.3873 - mae: 2.8534\n",
            "Epoch 41/100\n",
            "10/10 [==============================] - 4s 382ms/step - loss: 2.3463 - mae: 2.8119\n",
            "Epoch 42/100\n",
            "10/10 [==============================] - 4s 381ms/step - loss: 2.3060 - mae: 2.7707\n",
            "Epoch 43/100\n",
            "10/10 [==============================] - 4s 380ms/step - loss: 2.2663 - mae: 2.7301\n",
            "Epoch 44/100\n",
            "10/10 [==============================] - 4s 386ms/step - loss: 2.2269 - mae: 2.6899\n",
            "Epoch 45/100\n",
            "10/10 [==============================] - 4s 378ms/step - loss: 2.1898 - mae: 2.6519\n",
            "Epoch 46/100\n",
            "10/10 [==============================] - 4s 381ms/step - loss: 2.1563 - mae: 2.6181\n",
            "Epoch 47/100\n",
            "10/10 [==============================] - 4s 379ms/step - loss: 2.1248 - mae: 2.5861\n",
            "Epoch 48/100\n",
            "10/10 [==============================] - 4s 378ms/step - loss: 2.0958 - mae: 2.5568\n",
            "Epoch 49/100\n",
            "10/10 [==============================] - 4s 379ms/step - loss: 2.0688 - mae: 2.5296\n",
            "Epoch 50/100\n",
            "10/10 [==============================] - 4s 382ms/step - loss: 2.0442 - mae: 2.5045\n",
            "Epoch 51/100\n",
            "10/10 [==============================] - 4s 379ms/step - loss: 2.0220 - mae: 2.4818\n",
            "Epoch 52/100\n",
            "10/10 [==============================] - 4s 384ms/step - loss: 2.0018 - mae: 2.4611\n",
            "Epoch 53/100\n",
            "10/10 [==============================] - 4s 379ms/step - loss: 1.9802 - mae: 2.4394\n",
            "Epoch 54/100\n",
            "10/10 [==============================] - 4s 376ms/step - loss: 1.9586 - mae: 2.4171\n",
            "Epoch 55/100\n",
            "10/10 [==============================] - 4s 376ms/step - loss: 1.9390 - mae: 2.3972\n",
            "Epoch 56/100\n",
            "10/10 [==============================] - 4s 375ms/step - loss: 1.9186 - mae: 2.3763\n",
            "Epoch 57/100\n",
            "10/10 [==============================] - 4s 380ms/step - loss: 1.8975 - mae: 2.3550\n",
            "Epoch 58/100\n",
            "10/10 [==============================] - 4s 380ms/step - loss: 1.8742 - mae: 2.3319\n",
            "Epoch 59/100\n",
            "10/10 [==============================] - 4s 376ms/step - loss: 1.8740 - mae: 2.3313\n",
            "Epoch 60/100\n",
            "10/10 [==============================] - 4s 384ms/step - loss: 2.1517 - mae: 2.6186\n",
            "Epoch 61/100\n",
            "10/10 [==============================] - 4s 382ms/step - loss: 2.6769 - mae: 3.1255\n",
            "Epoch 62/100\n",
            "10/10 [==============================] - 4s 380ms/step - loss: 2.9943 - mae: 3.4816\n",
            "Epoch 63/100\n",
            "10/10 [==============================] - 4s 375ms/step - loss: 3.5231 - mae: 3.9883\n",
            "Epoch 64/100\n",
            "10/10 [==============================] - 4s 379ms/step - loss: 3.8253 - mae: 4.2931\n",
            "Epoch 65/100\n",
            "10/10 [==============================] - 4s 377ms/step - loss: 4.1277 - mae: 4.5872\n",
            "Epoch 66/100\n",
            "10/10 [==============================] - 4s 380ms/step - loss: 4.3066 - mae: 4.7674\n",
            "Epoch 67/100\n",
            "10/10 [==============================] - 4s 378ms/step - loss: 4.2554 - mae: 4.6471\n",
            "Epoch 68/100\n",
            "10/10 [==============================] - 4s 379ms/step - loss: 4.9072 - mae: 5.4361\n",
            "Epoch 69/100\n",
            "10/10 [==============================] - 4s 384ms/step - loss: 5.1538 - mae: 5.6475\n",
            "Epoch 70/100\n",
            "10/10 [==============================] - 4s 380ms/step - loss: 5.1147 - mae: 5.6445\n",
            "Epoch 71/100\n",
            "10/10 [==============================] - 4s 380ms/step - loss: 5.5079 - mae: 5.9897\n",
            "Epoch 72/100\n",
            "10/10 [==============================] - 4s 379ms/step - loss: 5.3127 - mae: 5.7792\n",
            "Epoch 73/100\n",
            "10/10 [==============================] - 4s 381ms/step - loss: 4.3771 - mae: 4.8654\n",
            "Epoch 74/100\n",
            "10/10 [==============================] - 4s 380ms/step - loss: 3.8376 - mae: 4.3256\n",
            "Epoch 75/100\n",
            "10/10 [==============================] - 4s 376ms/step - loss: 3.6925 - mae: 4.1696\n",
            "Epoch 76/100\n",
            "10/10 [==============================] - 4s 377ms/step - loss: 3.7882 - mae: 4.2720\n",
            "Epoch 77/100\n",
            "10/10 [==============================] - 4s 377ms/step - loss: 3.9740 - mae: 4.4589\n",
            "Epoch 78/100\n",
            "10/10 [==============================] - 4s 376ms/step - loss: 3.4532 - mae: 4.0031\n",
            "Epoch 79/100\n",
            "10/10 [==============================] - 4s 375ms/step - loss: 3.3628 - mae: 3.8793\n",
            "Epoch 80/100\n",
            "10/10 [==============================] - 4s 384ms/step - loss: 3.0765 - mae: 3.5355\n",
            "Epoch 81/100\n",
            "10/10 [==============================] - 4s 378ms/step - loss: 3.5764 - mae: 3.9315\n",
            "Epoch 82/100\n",
            "10/10 [==============================] - 4s 383ms/step - loss: 3.7544 - mae: 4.2643\n",
            "Epoch 83/100\n",
            "10/10 [==============================] - 4s 384ms/step - loss: 4.5339 - mae: 4.7871\n",
            "Epoch 84/100\n",
            "10/10 [==============================] - 4s 368ms/step - loss: 4.8648 - mae: 5.2283\n",
            "Epoch 85/100\n",
            "10/10 [==============================] - 4s 378ms/step - loss: 6.1379 - mae: 6.6580\n",
            "Epoch 86/100\n",
            "10/10 [==============================] - 4s 382ms/step - loss: 6.4009 - mae: 6.9540\n",
            "Epoch 87/100\n",
            "10/10 [==============================] - 4s 376ms/step - loss: 7.9808 - mae: 8.4321\n",
            "Epoch 88/100\n",
            "10/10 [==============================] - 4s 375ms/step - loss: 8.8299 - mae: 9.2265\n",
            "Epoch 89/100\n",
            "10/10 [==============================] - 4s 384ms/step - loss: 9.9149 - mae: 10.3725\n",
            "Epoch 90/100\n",
            "10/10 [==============================] - 4s 381ms/step - loss: 24.8630 - mae: 23.4293\n",
            "Epoch 91/100\n",
            "10/10 [==============================] - 4s 377ms/step - loss: 37.6006 - mae: 37.6635\n",
            "Epoch 92/100\n",
            "10/10 [==============================] - 4s 375ms/step - loss: 25.3536 - mae: 25.6922\n",
            "Epoch 93/100\n",
            "10/10 [==============================] - 4s 375ms/step - loss: 59.7927 - mae: 61.6289\n",
            "Epoch 94/100\n",
            "10/10 [==============================] - 4s 379ms/step - loss: 116.5171 - mae: 116.0814\n",
            "Epoch 95/100\n",
            "10/10 [==============================] - 4s 376ms/step - loss: 113.6372 - mae: 118.3988\n",
            "Epoch 96/100\n",
            "10/10 [==============================] - 4s 377ms/step - loss: 148.5483 - mae: 150.7585\n",
            "Epoch 97/100\n",
            "10/10 [==============================] - 4s 385ms/step - loss: 84.6049 - mae: 78.0848\n",
            "Epoch 98/100\n",
            "10/10 [==============================] - 4s 379ms/step - loss: 157.3209 - mae: 162.8423\n",
            "Epoch 99/100\n",
            "10/10 [==============================] - 4s 375ms/step - loss: 127.0970 - mae: 129.7172\n",
            "Epoch 100/100\n",
            "10/10 [==============================] - 4s 379ms/step - loss: 229.2611 - mae: 228.7131\n"
          ],
          "name": "stdout"
        }
      ]
    },
    {
      "cell_type": "code",
      "metadata": {
        "id": "vVcKmg7Q_7rD",
        "colab_type": "code",
        "outputId": "9d066779-3dad-441c-cad7-3b991127233a",
        "colab": {
          "base_uri": "https://localhost:8080/",
          "height": 290
        }
      },
      "source": [
        "plt.semilogx(history.history[\"lr\"], history.history[\"loss\"])\n",
        "plt.axis([1e-8, 1e-4, 0, 60])"
      ],
      "execution_count": 23,
      "outputs": [
        {
          "output_type": "execute_result",
          "data": {
            "text/plain": [
              "(1e-08, 0.0001, 0.0, 60.0)"
            ]
          },
          "metadata": {
            "tags": []
          },
          "execution_count": 23
        },
        {
          "output_type": "display_data",
          "data": {
            "image/png": "[encoded data removed]",
            "text/plain": [
              "<Figure size 432x288 with 1 Axes>"
            ]
          },
          "metadata": {
            "tags": []
          }
        }
      ]
    },
    {
      "cell_type": "code",
      "metadata": {
        "id": "QsksvkcXAAgq",
        "colab_type": "code",
        "outputId": "edda3b3d-7c43-4e64-f444-c418d088650a",
        "colab": {
          "base_uri": "https://localhost:8080/",
          "height": 1000
        }
      },
      "source": [
        "tf.keras.backend.clear_session()\n",
        "tf.random.set_seed(51)\n",
        "np.random.seed(51)\n",
        "train_set = windowed_dataset(x_train, window_size=60, batch_size=100, shuffle_buffer=shuffle_buffer_size)\n",
        "model = tf.keras.models.Sequential([\n",
        "tf.keras.layers.Conv1D(filters=60, kernel_size=5,\n",
        "                      strides=1, padding=\"causal\",\n",
        "                      activation=\"relu\",\n",
        "                      input_shape=[None, 1]),\n",
        "  tf.keras.layers.LSTM(60, return_sequences=True),\n",
        "  tf.keras.layers.LSTM(60, return_sequences=True),\n",
        "  tf.keras.layers.Dense(30, activation=\"relu\"),\n",
        "  tf.keras.layers.Dense(10, activation=\"relu\"),\n",
        "  tf.keras.layers.Dense(1),\n",
        "  tf.keras.layers.Lambda(lambda x: x * 400)\n",
        "])\n",
        "\n",
        "\n",
        "optimizer = tf.keras.optimizers.SGD(lr=1e-5, momentum=0.9)\n",
        "model.compile(loss=tf.keras.losses.Huber(),\n",
        "              optimizer=optimizer,\n",
        "              metrics=[\"mae\"])\n",
        "history = model.fit(train_set,epochs=150)\n",
        "                                    \n",
        "# EXPECTED OUTPUT SHOULD SEE AN MAE OF <2 WITHIN ABOUT 30 EPOCHS"
      ],
      "execution_count": 24,
      "outputs": [
        {
          "output_type": "stream",
          "text": [
            "Epoch 1/150\n",
            "25/25 [==============================] - 6s 223ms/step - loss: 9.9624 - mae: 10.5789\n",
            "Epoch 2/150\n",
            "25/25 [==============================] - 3s 128ms/step - loss: 2.5390 - mae: 3.0130\n",
            "Epoch 3/150\n",
            "25/25 [==============================] - 3s 128ms/step - loss: 1.9265 - mae: 2.3816\n",
            "Epoch 4/150\n",
            "25/25 [==============================] - 3s 126ms/step - loss: 1.8597 - mae: 2.3125\n",
            "Epoch 5/150\n",
            "25/25 [==============================] - 3s 126ms/step - loss: 1.8181 - mae: 2.2696\n",
            "Epoch 6/150\n",
            "25/25 [==============================] - 3s 127ms/step - loss: 1.7882 - mae: 2.2385\n",
            "Epoch 7/150\n",
            "25/25 [==============================] - 3s 127ms/step - loss: 1.7618 - mae: 2.2112\n",
            "Epoch 8/150\n",
            "25/25 [==============================] - 3s 129ms/step - loss: 1.7382 - mae: 2.1870\n",
            "Epoch 9/150\n",
            "25/25 [==============================] - 3s 128ms/step - loss: 1.7167 - mae: 2.1650\n",
            "Epoch 10/150\n",
            "25/25 [==============================] - 3s 129ms/step - loss: 1.6976 - mae: 2.1454\n",
            "Epoch 11/150\n",
            "25/25 [==============================] - 3s 127ms/step - loss: 1.6808 - mae: 2.1281\n",
            "Epoch 12/150\n",
            "25/25 [==============================] - 3s 127ms/step - loss: 1.6661 - mae: 2.1128\n",
            "Epoch 13/150\n",
            "25/25 [==============================] - 3s 126ms/step - loss: 1.6531 - mae: 2.0993\n",
            "Epoch 14/150\n",
            "25/25 [==============================] - 3s 126ms/step - loss: 1.6417 - mae: 2.0872\n",
            "Epoch 15/150\n",
            "25/25 [==============================] - 3s 127ms/step - loss: 1.6315 - mae: 2.0764\n",
            "Epoch 16/150\n",
            "25/25 [==============================] - 3s 125ms/step - loss: 1.6223 - mae: 2.0667\n",
            "Epoch 17/150\n",
            "25/25 [==============================] - 3s 128ms/step - loss: 1.6141 - mae: 2.0579\n",
            "Epoch 18/150\n",
            "25/25 [==============================] - 3s 127ms/step - loss: 1.6067 - mae: 2.0500\n",
            "Epoch 19/150\n",
            "25/25 [==============================] - 3s 129ms/step - loss: 1.6000 - mae: 2.0429\n",
            "Epoch 20/150\n",
            "25/25 [==============================] - 3s 128ms/step - loss: 1.5939 - mae: 2.0364\n",
            "Epoch 21/150\n",
            "25/25 [==============================] - 3s 126ms/step - loss: 1.5883 - mae: 2.0306\n",
            "Epoch 22/150\n",
            "25/25 [==============================] - 3s 127ms/step - loss: 1.5833 - mae: 2.0254\n",
            "Epoch 23/150\n",
            "25/25 [==============================] - 3s 127ms/step - loss: 1.5787 - mae: 2.0206\n",
            "Epoch 24/150\n",
            "25/25 [==============================] - 3s 128ms/step - loss: 1.5745 - mae: 2.0163\n",
            "Epoch 25/150\n",
            "25/25 [==============================] - 3s 127ms/step - loss: 1.5707 - mae: 2.0124\n",
            "Epoch 26/150\n",
            "25/25 [==============================] - 3s 127ms/step - loss: 1.5672 - mae: 2.0088\n",
            "Epoch 27/150\n",
            "25/25 [==============================] - 3s 127ms/step - loss: 1.5640 - mae: 2.0056\n",
            "Epoch 28/150\n",
            "25/25 [==============================] - 3s 127ms/step - loss: 1.5610 - mae: 2.0026\n",
            "Epoch 29/150\n",
            "25/25 [==============================] - 3s 126ms/step - loss: 1.5583 - mae: 1.9998\n",
            "Epoch 30/150\n",
            "25/25 [==============================] - 3s 126ms/step - loss: 1.5558 - mae: 1.9973\n",
            "Epoch 31/150\n",
            "25/25 [==============================] - 3s 127ms/step - loss: 1.5534 - mae: 1.9949\n",
            "Epoch 32/150\n",
            "25/25 [==============================] - 3s 126ms/step - loss: 1.5512 - mae: 1.9927\n",
            "Epoch 33/150\n",
            "25/25 [==============================] - 3s 126ms/step - loss: 1.5492 - mae: 1.9906\n",
            "Epoch 34/150\n",
            "25/25 [==============================] - 3s 125ms/step - loss: 1.5472 - mae: 1.9887\n",
            "Epoch 35/150\n",
            "25/25 [==============================] - 3s 125ms/step - loss: 1.5454 - mae: 1.9868\n",
            "Epoch 36/150\n",
            "25/25 [==============================] - 3s 127ms/step - loss: 1.5437 - mae: 1.9851\n",
            "Epoch 37/150\n",
            "25/25 [==============================] - 3s 127ms/step - loss: 1.5420 - mae: 1.9834\n",
            "Epoch 38/150\n",
            "25/25 [==============================] - 3s 128ms/step - loss: 1.5405 - mae: 1.9819\n",
            "Epoch 39/150\n",
            "25/25 [==============================] - 3s 125ms/step - loss: 1.5391 - mae: 1.9804\n",
            "Epoch 40/150\n",
            "25/25 [==============================] - 3s 126ms/step - loss: 1.5378 - mae: 1.9791\n",
            "Epoch 41/150\n",
            "25/25 [==============================] - 3s 127ms/step - loss: 1.5365 - mae: 1.9778\n",
            "Epoch 42/150\n",
            "25/25 [==============================] - 3s 126ms/step - loss: 1.5353 - mae: 1.9766\n",
            "Epoch 43/150\n",
            "25/25 [==============================] - 3s 126ms/step - loss: 1.5341 - mae: 1.9754\n",
            "Epoch 44/150\n",
            "25/25 [==============================] - 3s 125ms/step - loss: 1.5330 - mae: 1.9743\n",
            "Epoch 45/150\n",
            "25/25 [==============================] - 3s 127ms/step - loss: 1.5319 - mae: 1.9732\n",
            "Epoch 46/150\n",
            "25/25 [==============================] - 3s 127ms/step - loss: 1.5309 - mae: 1.9721\n",
            "Epoch 47/150\n",
            "25/25 [==============================] - 3s 129ms/step - loss: 1.5299 - mae: 1.9711\n",
            "Epoch 48/150\n",
            "25/25 [==============================] - 3s 127ms/step - loss: 1.5289 - mae: 1.9702\n",
            "Epoch 49/150\n",
            "25/25 [==============================] - 3s 127ms/step - loss: 1.5280 - mae: 1.9692\n",
            "Epoch 50/150\n",
            "25/25 [==============================] - 3s 126ms/step - loss: 1.5272 - mae: 1.9684\n",
            "Epoch 51/150\n",
            "25/25 [==============================] - 3s 127ms/step - loss: 1.5263 - mae: 1.9675\n",
            "Epoch 52/150\n",
            "25/25 [==============================] - 3s 126ms/step - loss: 1.5255 - mae: 1.9667\n",
            "Epoch 53/150\n",
            "25/25 [==============================] - 3s 128ms/step - loss: 1.5247 - mae: 1.9659\n",
            "Epoch 54/150\n",
            "25/25 [==============================] - 3s 126ms/step - loss: 1.5239 - mae: 1.9651\n",
            "Epoch 55/150\n",
            "25/25 [==============================] - 3s 126ms/step - loss: 1.5231 - mae: 1.9643\n",
            "Epoch 56/150\n",
            "25/25 [==============================] - 3s 125ms/step - loss: 1.5224 - mae: 1.9636\n",
            "Epoch 57/150\n",
            "25/25 [==============================] - 3s 127ms/step - loss: 1.5216 - mae: 1.9628\n",
            "Epoch 58/150\n",
            "25/25 [==============================] - 3s 127ms/step - loss: 1.5209 - mae: 1.9621\n",
            "Epoch 59/150\n",
            "25/25 [==============================] - 3s 125ms/step - loss: 1.5202 - mae: 1.9614\n",
            "Epoch 60/150\n",
            "25/25 [==============================] - 3s 126ms/step - loss: 1.5195 - mae: 1.9606\n",
            "Epoch 61/150\n",
            "25/25 [==============================] - 3s 126ms/step - loss: 1.5187 - mae: 1.9598\n",
            "Epoch 62/150\n",
            "25/25 [==============================] - 3s 126ms/step - loss: 1.5181 - mae: 1.9591\n",
            "Epoch 63/150\n",
            "25/25 [==============================] - 3s 127ms/step - loss: 1.5174 - mae: 1.9584\n",
            "Epoch 64/150\n",
            "25/25 [==============================] - 3s 126ms/step - loss: 1.5168 - mae: 1.9578\n",
            "Epoch 65/150\n",
            "25/25 [==============================] - 3s 126ms/step - loss: 1.5162 - mae: 1.9571\n",
            "Epoch 66/150\n",
            "25/25 [==============================] - 3s 127ms/step - loss: 1.5157 - mae: 1.9566\n",
            "Epoch 67/150\n",
            "25/25 [==============================] - 3s 126ms/step - loss: 1.5151 - mae: 1.9560\n",
            "Epoch 68/150\n",
            "25/25 [==============================] - 3s 126ms/step - loss: 1.5145 - mae: 1.9553\n",
            "Epoch 69/150\n",
            "25/25 [==============================] - 3s 126ms/step - loss: 1.5139 - mae: 1.9546\n",
            "Epoch 70/150\n",
            "25/25 [==============================] - 3s 125ms/step - loss: 1.5132 - mae: 1.9539\n",
            "Epoch 71/150\n",
            "25/25 [==============================] - 3s 124ms/step - loss: 1.5126 - mae: 1.9532\n",
            "Epoch 72/150\n",
            "25/25 [==============================] - 3s 125ms/step - loss: 1.5119 - mae: 1.9525\n",
            "Epoch 73/150\n",
            "25/25 [==============================] - 3s 128ms/step - loss: 1.5112 - mae: 1.9517\n",
            "Epoch 74/150\n",
            "25/25 [==============================] - 3s 127ms/step - loss: 1.5104 - mae: 1.9510\n",
            "Epoch 75/150\n",
            "25/25 [==============================] - 3s 127ms/step - loss: 1.5098 - mae: 1.9504\n",
            "Epoch 76/150\n",
            "25/25 [==============================] - 3s 128ms/step - loss: 1.5092 - mae: 1.9498\n",
            "Epoch 77/150\n",
            "25/25 [==============================] - 3s 127ms/step - loss: 1.5086 - mae: 1.9492\n",
            "Epoch 78/150\n",
            "25/25 [==============================] - 3s 126ms/step - loss: 1.5079 - mae: 1.9486\n",
            "Epoch 79/150\n",
            "25/25 [==============================] - 3s 127ms/step - loss: 1.5073 - mae: 1.9479\n",
            "Epoch 80/150\n",
            "25/25 [==============================] - 3s 126ms/step - loss: 1.5066 - mae: 1.9473\n",
            "Epoch 81/150\n",
            "25/25 [==============================] - 3s 124ms/step - loss: 1.5060 - mae: 1.9466\n",
            "Epoch 82/150\n",
            "25/25 [==============================] - 3s 125ms/step - loss: 1.5054 - mae: 1.9460\n",
            "Epoch 83/150\n",
            "25/25 [==============================] - 3s 124ms/step - loss: 1.5049 - mae: 1.9454\n",
            "Epoch 84/150\n",
            "25/25 [==============================] - 3s 126ms/step - loss: 1.5043 - mae: 1.9449\n",
            "Epoch 85/150\n",
            "25/25 [==============================] - 3s 127ms/step - loss: 1.5038 - mae: 1.9444\n",
            "Epoch 86/150\n",
            "25/25 [==============================] - 3s 126ms/step - loss: 1.5033 - mae: 1.9439\n",
            "Epoch 87/150\n",
            "25/25 [==============================] - 3s 126ms/step - loss: 1.5028 - mae: 1.9433\n",
            "Epoch 88/150\n",
            "25/25 [==============================] - 3s 125ms/step - loss: 1.5023 - mae: 1.9428\n",
            "Epoch 89/150\n",
            "25/25 [==============================] - 3s 125ms/step - loss: 1.5018 - mae: 1.9423\n",
            "Epoch 90/150\n",
            "25/25 [==============================] - 3s 125ms/step - loss: 1.5013 - mae: 1.9418\n",
            "Epoch 91/150\n",
            "25/25 [==============================] - 3s 126ms/step - loss: 1.5006 - mae: 1.9411\n",
            "Epoch 92/150\n",
            "25/25 [==============================] - 3s 124ms/step - loss: 1.4995 - mae: 1.9399\n",
            "Epoch 93/150\n",
            "25/25 [==============================] - 3s 126ms/step - loss: 1.4984 - mae: 1.9388\n",
            "Epoch 94/150\n",
            "25/25 [==============================] - 3s 126ms/step - loss: 1.4977 - mae: 1.9380\n",
            "Epoch 95/150\n",
            "25/25 [==============================] - 3s 129ms/step - loss: 1.4970 - mae: 1.9373\n",
            "Epoch 96/150\n",
            "25/25 [==============================] - 3s 128ms/step - loss: 1.4964 - mae: 1.9366\n",
            "Epoch 97/150\n",
            "25/25 [==============================] - 3s 126ms/step - loss: 1.4957 - mae: 1.9359\n",
            "Epoch 98/150\n",
            "25/25 [==============================] - 3s 126ms/step - loss: 1.4950 - mae: 1.9352\n",
            "Epoch 99/150\n",
            "25/25 [==============================] - 3s 127ms/step - loss: 1.4943 - mae: 1.9345\n",
            "Epoch 100/150\n",
            "25/25 [==============================] - 3s 127ms/step - loss: 1.4936 - mae: 1.9338\n",
            "Epoch 101/150\n",
            "25/25 [==============================] - 3s 127ms/step - loss: 1.4928 - mae: 1.9329\n",
            "Epoch 102/150\n",
            "25/25 [==============================] - 3s 126ms/step - loss: 1.4921 - mae: 1.9322\n",
            "Epoch 103/150\n",
            "25/25 [==============================] - 3s 125ms/step - loss: 1.4915 - mae: 1.9314\n",
            "Epoch 104/150\n",
            "25/25 [==============================] - 3s 129ms/step - loss: 1.4909 - mae: 1.9308\n",
            "Epoch 105/150\n",
            "25/25 [==============================] - 3s 126ms/step - loss: 1.4904 - mae: 1.9303\n",
            "Epoch 106/150\n",
            "25/25 [==============================] - 3s 127ms/step - loss: 1.4900 - mae: 1.9299\n",
            "Epoch 107/150\n",
            "25/25 [==============================] - 3s 129ms/step - loss: 1.4896 - mae: 1.9294\n",
            "Epoch 108/150\n",
            "25/25 [==============================] - 3s 126ms/step - loss: 1.4892 - mae: 1.9290\n",
            "Epoch 109/150\n",
            "25/25 [==============================] - 3s 125ms/step - loss: 1.4889 - mae: 1.9286\n",
            "Epoch 110/150\n",
            "25/25 [==============================] - 3s 127ms/step - loss: 1.4885 - mae: 1.9283\n",
            "Epoch 111/150\n",
            "25/25 [==============================] - 3s 126ms/step - loss: 1.4882 - mae: 1.9279\n",
            "Epoch 112/150\n",
            "25/25 [==============================] - 3s 126ms/step - loss: 1.4878 - mae: 1.9276\n",
            "Epoch 113/150\n",
            "25/25 [==============================] - 3s 126ms/step - loss: 1.4875 - mae: 1.9273\n",
            "Epoch 114/150\n",
            "25/25 [==============================] - 3s 128ms/step - loss: 1.4872 - mae: 1.9269\n",
            "Epoch 115/150\n",
            "25/25 [==============================] - 3s 128ms/step - loss: 1.4869 - mae: 1.9265\n",
            "Epoch 116/150\n",
            "25/25 [==============================] - 3s 127ms/step - loss: 1.4866 - mae: 1.9262\n",
            "Epoch 117/150\n",
            "25/25 [==============================] - 3s 128ms/step - loss: 1.4863 - mae: 1.9259\n",
            "Epoch 118/150\n",
            "25/25 [==============================] - 3s 125ms/step - loss: 1.4860 - mae: 1.9256\n",
            "Epoch 119/150\n",
            "25/25 [==============================] - 3s 127ms/step - loss: 1.4857 - mae: 1.9253\n",
            "Epoch 120/150\n",
            "25/25 [==============================] - 3s 125ms/step - loss: 1.4854 - mae: 1.9250\n",
            "Epoch 121/150\n",
            "25/25 [==============================] - 3s 127ms/step - loss: 1.4851 - mae: 1.9247\n",
            "Epoch 122/150\n",
            "25/25 [==============================] - 3s 126ms/step - loss: 1.4848 - mae: 1.9244\n",
            "Epoch 123/150\n",
            "25/25 [==============================] - 3s 127ms/step - loss: 1.4845 - mae: 1.9241\n",
            "Epoch 124/150\n",
            "25/25 [==============================] - 3s 127ms/step - loss: 1.4843 - mae: 1.9238\n",
            "Epoch 125/150\n",
            "25/25 [==============================] - 3s 128ms/step - loss: 1.4840 - mae: 1.9235\n",
            "Epoch 126/150\n",
            "25/25 [==============================] - 3s 129ms/step - loss: 1.4838 - mae: 1.9233\n",
            "Epoch 127/150\n",
            "25/25 [==============================] - 3s 126ms/step - loss: 1.4835 - mae: 1.9230\n",
            "Epoch 128/150\n",
            "25/25 [==============================] - 3s 124ms/step - loss: 1.4833 - mae: 1.9227\n",
            "Epoch 129/150\n",
            "25/25 [==============================] - 3s 125ms/step - loss: 1.4830 - mae: 1.9225\n",
            "Epoch 130/150\n",
            "25/25 [==============================] - 3s 126ms/step - loss: 1.4828 - mae: 1.9222\n",
            "Epoch 131/150\n",
            "25/25 [==============================] - 3s 126ms/step - loss: 1.4826 - mae: 1.9220\n",
            "Epoch 132/150\n",
            "25/25 [==============================] - 3s 126ms/step - loss: 1.4823 - mae: 1.9217\n",
            "Epoch 133/150\n",
            "25/25 [==============================] - 3s 127ms/step - loss: 1.4821 - mae: 1.9215\n",
            "Epoch 134/150\n",
            "25/25 [==============================] - 3s 127ms/step - loss: 1.4818 - mae: 1.9212\n",
            "Epoch 135/150\n",
            "25/25 [==============================] - 3s 126ms/step - loss: 1.4816 - mae: 1.9209\n",
            "Epoch 136/150\n",
            "25/25 [==============================] - 3s 126ms/step - loss: 1.4813 - mae: 1.9207\n",
            "Epoch 137/150\n",
            "25/25 [==============================] - 3s 126ms/step - loss: 1.4811 - mae: 1.9204\n",
            "Epoch 138/150\n",
            "25/25 [==============================] - 3s 125ms/step - loss: 1.4808 - mae: 1.9201\n",
            "Epoch 139/150\n",
            "25/25 [==============================] - 3s 124ms/step - loss: 1.4806 - mae: 1.9199\n",
            "Epoch 140/150\n",
            "25/25 [==============================] - 3s 126ms/step - loss: 1.4804 - mae: 1.9197\n",
            "Epoch 141/150\n",
            "25/25 [==============================] - 3s 126ms/step - loss: 1.4802 - mae: 1.9194\n",
            "Epoch 142/150\n",
            "25/25 [==============================] - 3s 126ms/step - loss: 1.4799 - mae: 1.9192\n",
            "Epoch 143/150\n",
            "25/25 [==============================] - 3s 125ms/step - loss: 1.4797 - mae: 1.9189\n",
            "Epoch 144/150\n",
            "25/25 [==============================] - 3s 127ms/step - loss: 1.4795 - mae: 1.9187\n",
            "Epoch 145/150\n",
            "25/25 [==============================] - 3s 126ms/step - loss: 1.4793 - mae: 1.9185\n",
            "Epoch 146/150\n",
            "25/25 [==============================] - 3s 127ms/step - loss: 1.4791 - mae: 1.9183\n",
            "Epoch 147/150\n",
            "25/25 [==============================] - 3s 128ms/step - loss: 1.4789 - mae: 1.9181\n",
            "Epoch 148/150\n",
            "25/25 [==============================] - 3s 127ms/step - loss: 1.4787 - mae: 1.9179\n",
            "Epoch 149/150\n",
            "25/25 [==============================] - 3s 129ms/step - loss: 1.4785 - mae: 1.9177\n",
            "Epoch 150/150\n",
            "25/25 [==============================] - 3s 129ms/step - loss: 1.4783 - mae: 1.9174\n"
          ],
          "name": "stdout"
        }
      ]
    },
    {
      "cell_type": "code",
      "metadata": {
        "id": "GaC6NNMRp0lb",
        "colab_type": "code",
        "colab": {}
      },
      "source": [
        "rnn_forecast = model_forecast(model, series[..., np.newaxis], window_size)\n",
        "rnn_forecast = rnn_forecast[split_time - window_size:-1, -1, 0]"
      ],
      "execution_count": 0,
      "outputs": []
    },
    {
      "cell_type": "code",
      "metadata": {
        "colab_type": "code",
        "id": "izy6wl2S9d-2",
        "colab": {
          "base_uri": "https://localhost:8080/",
          "height": 389
        },
        "outputId": "daa83f4a-1776-410e-ac15-3c94213518a7"
      },
      "source": [
        "plt.figure(figsize=(10, 6))\n",
        "plot_series(time_valid, x_valid)\n",
        "plot_series(time_valid, rnn_forecast)\n",
        "\n",
        "# EXPECTED OUTPUT. PLOT SHOULD SHOW PROJECTIONS FOLLOWING ORIGINAL DATA CLOSELY"
      ],
      "execution_count": 26,
      "outputs": [
        {
          "output_type": "display_data",
          "data": {
            "image/png": "[encoded data removed]",
            "text/plain": [
              "<Figure size 720x432 with 1 Axes>"
            ]
          },
          "metadata": {
            "tags": []
          }
        }
      ]
    },
    {
      "cell_type": "code",
      "metadata": {
        "id": "13XrorC5wQoE",
        "colab_type": "code",
        "outputId": "aa19a1b6-8194-48fa-fc88-8eedcf05e367",
        "colab": {
          "base_uri": "https://localhost:8080/",
          "height": 34
        }
      },
      "source": [
        "tf.keras.metrics.mean_absolute_error(x_valid, rnn_forecast).numpy()\n",
        "\n",
        "# EXPECTED OUTPUT MAE < 2 -- I GOT 1.789626"
      ],
      "execution_count": 29,
      "outputs": [
        {
          "output_type": "execute_result",
          "data": {
            "text/plain": [
              "1.7805002"
            ]
          },
          "metadata": {
            "tags": []
          },
          "execution_count": 29
        }
      ]
    },
    {
      "cell_type": "code",
      "metadata": {
        "id": "AOVzQXxCwkzP",
        "colab_type": "code",
        "outputId": "5429e7a7-668f-43e6-da43-5af3bca4b774",
        "colab": {
          "base_uri": "https://localhost:8080/",
          "height": 34
        }
      },
      "source": [
        "print(rnn_forecast)\n",
        "# EXPECTED OUTPUT -- ARRAY OF VALUES IN THE LOW TEENS"
      ],
      "execution_count": 30,
      "outputs": [
        {
          "output_type": "stream",
          "text": [
            "[11.627772  10.978146  12.1636715 ... 13.588208  13.724441  14.938943 ]\n"
          ],
          "name": "stdout"
        }
      ]
    }
  ]
}